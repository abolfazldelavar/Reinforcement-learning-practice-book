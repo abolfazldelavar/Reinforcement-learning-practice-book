{
 "cells": [
  {
   "attachments": {},
   "cell_type": "markdown",
   "metadata": {},
   "source": [
    "<img src=\"https://github.com/abolfazldelavar/dyrun/blob/main/logo.png?raw=true\" align=\"right\" width=\"250\" alt=\"header pic\"/>\n",
    "\n",
    "# DYNAMIC RUNNER\n",
    "**Dynamic Runner** or `dyrun` is a simple tool that facilitates simulations expeditiously and effortlessly, using invaluable instruments for modeling linear and nonlinear dynamic systems, irrespective of their time dependence or independence. This formidable instrument is capable of executing **dynamic mathematical models** and is advantageous for control engineering applications, estimation, and prediction. Moreover, it is applicable to Machine Learning and AI domains, including neural networks. Researchers who wish to delve into the realm of dynamic and control systems will find this package to be an invaluable resource. Enjoy!\n",
    "\n",
    "https://github.com/abolfazldelavar/dyrun\n",
    "\n",
    "\"*Successful people are those who can build solid foundations with the bricks others throw at them.*\"\n"
   ]
  },
  {
   "attachments": {},
   "cell_type": "markdown",
   "metadata": {},
   "source": [
    "## Requirements\n",
    "All external **dependencies** utilized in the project should be documented in this section. To ensure comprehensive access to libraries, any additional libraries can be added as objects (using `struc()`) for improved control and management. Additionally, the `core_library.py` file contains two libraries, `clib` and `plib`, which provide a variety of useful functions for tasks such as drawing."
   ]
  },
  {
   "cell_type": "code",
   "execution_count": 1,
   "metadata": {},
   "outputs": [
    {
     "data": {
      "text/plain": [
       "<Figure size 432x288 with 0 Axes>"
      ]
     },
     "metadata": {},
     "output_type": "display_data"
    }
   ],
   "source": [
    "# Dependencies\n",
    "from core.lib.required_libraries import *\n",
    "from core.lib.core_library import *\n",
    "from core.caller.scope_engine import *\n",
    "from blocks.general_blocks import *"
   ]
  },
  {
   "cell_type": "code",
   "execution_count": 2,
   "metadata": {},
   "outputs": [
    {
     "name": "stdout",
     "output_type": "stream",
     "text": [
      "--- DYNAMIC RUNNER PACKAGE ---\n",
      "The simulation with ID=20240710161421 has kicked off! (2024/07/10, 16:14:21)\n"
     ]
    }
   ],
   "source": [
    "# Simulation identification number\n",
    "ID = Clib.get_now()\n",
    "# Set the time simulation starts\n",
    "simulation_start_time = Clib.set_timer(ID)"
   ]
  },
  {
   "attachments": {},
   "cell_type": "markdown",
   "metadata": {},
   "source": [
    "## Custom Functions\n",
    "If you need to define any custom functions for your project, this is the ideal location to do so. This section serves as a repository for pre-defined functions that can be accessed and utilized throughout the entire project."
   ]
  },
  {
   "cell_type": "code",
   "execution_count": 3,
   "metadata": {},
   "outputs": [],
   "source": [
    "def test():\n",
    "    '''\n",
    "    DocString `is` a text to help using this function.\n",
    "    '''\n",
    "    pass"
   ]
  },
  {
   "attachments": {},
   "cell_type": "markdown",
   "metadata": {},
   "source": [
    "## Parameters\n",
    "This segment confers the prerogative to establish **invariable** quantities, typically employed with a singular value throughout the entire project. It is imperative to note that they must be delineated as a component of the `params` variable, which constitutes a `struct` collection."
   ]
  },
  {
   "cell_type": "code",
   "execution_count": 4,
   "metadata": {},
   "outputs": [],
   "source": [
    "params = Structure()\n",
    "\n",
    "# Simulation Identification Carrier\n",
    "params.id = ID\n",
    "\n",
    "# Set the time-step and simulation time as needed.\n",
    "# Note: These variables may need to be changed arbitrarily.\n",
    "params.step = 0.0001 # (double)\n",
    "params.t_final = 3 # (double)\n",
    "\n",
    "# Calculate the number of steps required for the simulation.\n",
    "# Note: This variable is dependent on the time-step and simulation time, and should not be changed.\n",
    "params.n = int(params.t_final/params.step) # (DEPENDENT)\n",
    "\n",
    "# Specify the folders for input data, output data, and logs.\n",
    "params.data_path = 'data'\n",
    "params.load_path = params.data_path + '/inputs' # (string)\n",
    "params.save_path = params.data_path + '/outputs' # (string)\n",
    "\n",
    "# To save data regularly - time must be in second\n",
    "params.auto_save_time = False # (sec)\n",
    "\n",
    "# Determine whether to save data with a unique name based on the time of saving.\n",
    "params.unique = False # (logical)\n",
    "\n",
    "# Specify the default image format for saving.\n",
    "# Note: Allowed formats are \"jpg\", \"png\", and \"pdf\".\n",
    "params.default_image_format = 'png' # (string)\n",
    "\n",
    "# Add any additional parameters as needed ~~~>"
   ]
  },
  {
   "attachments": {},
   "cell_type": "markdown",
   "metadata": {},
   "source": [
    "## Signals\n",
    "This section is designated for the definition of any signals and array variables."
   ]
  },
  {
   "cell_type": "code",
   "execution_count": 5,
   "metadata": {},
   "outputs": [],
   "source": [
    "signals = Structure()\n",
    "# Generate a time vector for the simulation using the specified time-step and simulation time.\n",
    "signals.time_line = np.arange(0, params.t_final, params.step)\n",
    "# Insert signal data here ~~~>"
   ]
  },
  {
   "attachments": {},
   "cell_type": "markdown",
   "metadata": {},
   "source": [
    "## Models\n",
    "Dynamic objects and those that are not as elementary as an array must be delineated as a component of the `models` variable. This includes objects such as estimators and controllers."
   ]
  },
  {
   "cell_type": "code",
   "execution_count": 6,
   "metadata": {},
   "outputs": [
    {
     "name": "stdout",
     "output_type": "stream",
     "text": [
      "\"Nonlinear System 1\" was created.\n",
      "\"Neuro Identifier\" was created.\n"
     ]
    },
    {
     "data": {
      "text/latex": [
       "### Neuro Identifier\n",
       "\n",
       " #### Formulas: \n",
       "\n",
       " $\\begin{aligned}\\begin{cases}\\dot{\\hat{x}}(t) = \\hat W^T(t)\\sigma\\left(\\hat V^T(t)\\hat{x}(t)\\right) + g\\left( x(t) \\right)u(t) + k\\left(x(t) - \\hat x(t)\\right) - k\\left(x(0) - \\hat x(0)\\right) + z(t) \\\\\\dot z(t) = (k\\alpha +\\gamma)\\left(x(t) - \\hat x(t) \\right) + \\beta \\text{sgn}\\left(x(t) - \\hat x(t) \\right), z(0)=0\\end{cases} \\\\\\end{aligned}\\\\\\begin{aligned}\\begin{cases}\\dot{\\hat W}(t) = \\text{Proj}\\left( \\varPi_w \\nabla\\sigma\\left( \\hat V^T(t)\\hat x(t) \\right) \\hat V^T(t)\\dot{\\hat{x}}(t) \\left( x(t) - \\hat x(t) \\right)^T \\right) \\\\\\dot{\\hat V}(t) = \\text{Proj}\\left( \\varPi_v \\dot{\\hat{x}}(t) \\left( x(t) - \\hat x(t) \\right)^T \\hat W^T(t) \\nabla\\sigma\\left( \\hat V^T(t)\\hat x(t) \\right) \\right)\\\\\\end{cases}\\\\\\end{aligned}$ \n",
       "#### Parameters: \n",
       "\n",
       " $\\begin{aligned}&\\text{Name} &&= \\text{Neuro Identifier} \\\\ &\\text{Solver type} &&= \\text{euler} \\\\ &L &&= 5 \\\\ &\\bar w_m &&= 1000.0 \\\\ &\\epsilon &&= 0.2 \\\\ &k &&= 800 \\\\ &\\alpha &&= 300 \\\\ &\\gamma &&= 5 \\\\ &\\beta &&= 0.2 \\\\ &\\varPi_w &&= \\begin{bmatrix}0.1 & 0.0 & 0.0 & 0.0 & 0.0 & 0.0\\\\0.0 & 0.1 & 0.0 & 0.0 & 0.0 & 0.0\\\\0.0 & 0.0 & 0.1 & 0.0 & 0.0 & 0.0\\\\0.0 & 0.0 & 0.0 & 0.1 & 0.0 & 0.0\\\\0.0 & 0.0 & 0.0 & 0.0 & 0.1 & 0.0\\\\0.0 & 0.0 & 0.0 & 0.0 & 0.0 & 0.1\\\\\\end{bmatrix} \\\\ &\\varPi_v &&= \\begin{bmatrix}0.1 & 0.0\\\\0.0 & 0.1\\\\\\end{bmatrix} \\\\ &\\sigma(.) &&= \\text{sigmoid} \\\\ &dist_c &&= True\\end{aligned}$ \n",
       "#### Variables: \n",
       "\n",
       " $\\begin{aligned}&\\hat x(t) &&= \\begin{bmatrix}3 & -1\\\\\\end{bmatrix}^T \\\\ &\\dot{\\hat x}(t) &&= \\begin{bmatrix}0.0 & 0.0\\\\\\end{bmatrix}^T \\\\ &z(t) &&= \\begin{bmatrix}0.0 & 0.0\\\\\\end{bmatrix}^T \\\\ &\\hat W &&= \\begin{bmatrix}-0.40418032208483967 & -0.5301789268750617\\\\0.9215048185158521 & 0.4836612578356916\\\\-1.5241586474462299 & 1.5592407070245136\\\\0.9342091498671017 & -0.06548997557232836\\\\0.3800159941837128 & -1.4243422130955927\\\\1.228348635295741 & 0.518043735010905\\\\\\end{bmatrix} \\\\ &\\hat V &&= \\begin{bmatrix}-0.7708792601200188 & 0.3029654724512599 & 0.8301457228581192 & 0.8069012913085987 & -0.28251608184184995\\\\0.432052988856572 & 1.5876863555595992 & -1.0116412759063043 & -0.1637784607095866 & 1.2897156966168186\\\\\\end{bmatrix} \\\\ \\end{aligned}$"
      ],
      "text/plain": [
       "<core.caller.dynamic_engine.NeuroIdentifier at 0x75915839fe50>"
      ]
     },
     "execution_count": 6,
     "metadata": {},
     "output_type": "execute_result"
    }
   ],
   "source": [
    "models = Structure()\n",
    "# Add your desired models to the struct ~~~>\n",
    "\n",
    "models.plant = NonSys1(signals.time_line)\n",
    "models.identifier = NeuroIdentifier(models.plant,\n",
    "                                    params.step,\n",
    "                                    x_0 = models.plant.initial_states,\n",
    "                                    L = 5,\n",
    "                                    w_m = 1e3,\n",
    "                                    eps = 0.2,\n",
    "                                    k = 800,\n",
    "                                    alpha = 300,\n",
    "                                    gamma = 5,\n",
    "                                    beta = 0.2,\n",
    "                                    pi_w = 0.1*np.eye(6),\n",
    "                                    pi_v = 0.1*np.eye(2))\n",
    "models.identifier"
   ]
  },
  {
   "attachments": {},
   "cell_type": "markdown",
   "metadata": {},
   "source": [
    "## Main\n",
    "### Oscilloscope set up\n",
    "Firstly, `scope` objects that are instrumental in observing signals should be defined herein."
   ]
  },
  {
   "cell_type": "code",
   "execution_count": 7,
   "metadata": {},
   "outputs": [],
   "source": [
    "# Insert signal trackers here ~~~>\n",
    "sc_x_h = Scope(time_line = signals.time_line, n_signals = models.identifier.n_states)\n",
    "sc_dx_h = sc_x_h.dc()\n",
    "sc_z = sc_x_h.dc()\n"
   ]
  },
  {
   "attachments": {},
   "cell_type": "markdown",
   "metadata": {},
   "source": [
    "### Auto save option\n",
    "To warranty your data against any interruptions, use the below function to save your data periodically, automatically. The `params.auto_save_time` in params devotes the duration of this period which is `False` as default."
   ]
  },
  {
   "cell_type": "code",
   "execution_count": 8,
   "metadata": {},
   "outputs": [],
   "source": [
    "def auto_save_data(params, signals, models):\n",
    "    # Put your save operation here ~~~>\n",
    "    \n",
    "    # Schedule the next save operation\n",
    "    Clib.diary('Auto-saving funtion ran successfully.', no_print=True)\n",
    "    global _save_timer\n",
    "    _save_timer = threading.Timer(params.auto_save_time, auto_save_data, args=[params, signals, models])\n",
    "    _save_timer.start()"
   ]
  },
  {
   "attachments": {},
   "cell_type": "markdown",
   "metadata": {},
   "source": [
    "### Simulation\n",
    "The principal function of the project, indubitably, can be identified as the `simulation` function delineated below. In this segment, given the accessibility of all variables (`params`, `signals`, and `models`), you possess the capability to code the primary objective of this project herein. It is imperative to note that there exists a loop entitled `Main loop`, which can be employed as a time step loop, albeit its utilization may not be requisite in numerous projects."
   ]
  },
  {
   "cell_type": "code",
   "execution_count": 9,
   "metadata": {},
   "outputs": [],
   "source": [
    "def simulation(params, signals, models):\n",
    "    # This function is the main code for your simulation,\n",
    "    # containing a time-loop and utilizing model blocks and signals.\n",
    "    # The order of the input parameters should be (Parameters, Signals, Models).\n",
    "    \n",
    "    ## Initial options\n",
    "    if params.auto_save_time != False: auto_save_data(params, signals, models)\n",
    "    \n",
    "    ## Main loop\n",
    "    for k in tqdm(range(0, params.n), dynamic_ncols=True, leave=True, desc='Progress'):\n",
    "        # Put your codes here ~~~>\n",
    "        u = -(2 + np.math.cos(2*models.plant.states[0,k]))*models.plant.states[1,k]\n",
    "        models.plant(u)\n",
    "        models.identifier(u, models.plant.states[:, k])\n",
    "        \n",
    "        # Storing data\n",
    "        sc_x_h.get(models.identifier.x_h)\n",
    "        sc_dx_h.get(models.identifier.dx_h)\n",
    "        sc_z.get(models.identifier.z)\n",
    "        \n",
    "\n",
    "    ## Finalize options\n",
    "    if params.auto_save_time != False: _save_timer.cancel()\n",
    "    # Return the output as a list of params, signals, models\n",
    "    return [params, signals, models]"
   ]
  },
  {
   "attachments": {},
   "cell_type": "markdown",
   "metadata": {},
   "source": [
    "## Execution\n",
    "To run the project, the subsequent code snippet is furnished. In elementary projects, a single execution may suffice, whereas, in more intricate ones, multiple simulations may be necessitated. To accomplish this, loops and other discretionary techniques can be employed to invoke the `simulation` function with altered inputs such as `params`, etc."
   ]
  },
  {
   "cell_type": "code",
   "execution_count": 10,
   "metadata": {},
   "outputs": [
    {
     "name": "stderr",
     "output_type": "stream",
     "text": [
      "Progress: 100%|██████████| 30000/30000 [01:03<00:00, 471.38it/s]"
     ]
    },
    {
     "name": "stdout",
     "output_type": "stream",
     "text": [
      "The simulation has been completed. (1 minutes and 5.3186 seconds)\n"
     ]
    },
    {
     "name": "stderr",
     "output_type": "stream",
     "text": [
      "\n"
     ]
    }
   ],
   "source": [
    "# Executaion\n",
    "[params, signals, models] = simulation(params, signals, models)\n",
    "\n",
    "# The total time will be reported\n",
    "Clib.end_report(simulation_start_time)"
   ]
  },
  {
   "attachments": {},
   "cell_type": "markdown",
   "metadata": {},
   "source": [
    "## Illustration\n",
    "Should you necessitate the exhibition of the results procured, this section can be employed to facilitate superior organization."
   ]
  },
  {
   "cell_type": "code",
   "execution_count": 11,
   "metadata": {},
   "outputs": [],
   "source": [
    "## Initialize the variables and parameters\n",
    "n = params.n # number of elements\n",
    "n_line = np.arange(0, n) # create a vector from 0 to n-1\n",
    "tLine = signals.time_line[n_line] # create a time-line vector with length n\n",
    "Plib.initialize() # initialize the library\n",
    "## Write your codes here ~~~>"
   ]
  },
  {
   "cell_type": "code",
   "execution_count": 12,
   "metadata": {},
   "outputs": [
    {
     "data": {
      "image/png": "[encoded data removed]",
      "text/plain": [
       "<Figure size 792x514.8 with 1 Axes>"
      ]
     },
     "metadata": {
      "needs_background": "light"
     },
     "output_type": "display_data"
    },
    {
     "data": {
      "image/png": "[encoded data removed]",
      "text/plain": [
       "<Figure size 792x514.8 with 1 Axes>"
      ]
     },
     "metadata": {
      "needs_background": "light"
     },
     "output_type": "display_data"
    },
    {
     "data": {
      "image/png": "[encoded data removed]",
      "text/plain": [
       "<Figure size 792x514.8 with 1 Axes>"
      ]
     },
     "metadata": {
      "needs_background": "light"
     },
     "output_type": "display_data"
    }
   ],
   "source": [
    "sc_x = Scope(time_line = signals.time_line, initial = models.plant.states[:, 0:-1])\n",
    "sc_e_x = sc_x - sc_x_h\n",
    "sc_e_x.show(params, line_width = 1,\n",
    "            title = '$e(t)=x(t)-\\hat x(t)$',\n",
    "            y_label = 'Value',\n",
    "            legend = ('$e_1$', '$e_2$'))\n",
    "sc_dx_h.show(params, line_width = 1,\n",
    "            title = r'$\\dot{\\hat{x}}(t)$',\n",
    "            y_label = 'Value',\n",
    "            legend = ('$\\dot{\\hat{x}}_1$', '$\\dot{\\hat{x}}_2$'))\n",
    "sc_z.show(params, line_width = 1,\n",
    "            title = r'$z(t)$',\n",
    "            y_label = 'Value',\n",
    "            legend = ('$z_1$', '$z_2$'))"
   ]
  },
  {
   "cell_type": "code",
   "execution_count": 13,
   "metadata": {},
   "outputs": [
    {
     "data": {
      "text/latex": [
       "### Neuro Identifier\n",
       "\n",
       " #### Formulas: \n",
       "\n",
       " $\\begin{aligned}\\begin{cases}\\dot{\\hat{x}}(t) = \\hat W^T(t)\\sigma\\left(\\hat V^T(t)\\hat{x}(t)\\right) + g\\left( x(t) \\right)u(t) + k\\left(x(t) - \\hat x(t)\\right) - k\\left(x(0) - \\hat x(0)\\right) + z(t) \\\\\\dot z(t) = (k\\alpha +\\gamma)\\left(x(t) - \\hat x(t) \\right) + \\beta \\text{sgn}\\left(x(t) - \\hat x(t) \\right), z(0)=0\\end{cases} \\\\\\end{aligned}\\\\\\begin{aligned}\\begin{cases}\\dot{\\hat W}(t) = \\text{Proj}\\left( \\varPi_w \\nabla\\sigma\\left( \\hat V^T(t)\\hat x(t) \\right) \\hat V^T(t)\\dot{\\hat{x}}(t) \\left( x(t) - \\hat x(t) \\right)^T \\right) \\\\\\dot{\\hat V}(t) = \\text{Proj}\\left( \\varPi_v \\dot{\\hat{x}}(t) \\left( x(t) - \\hat x(t) \\right)^T \\hat W^T(t) \\nabla\\sigma\\left( \\hat V^T(t)\\hat x(t) \\right) \\right)\\\\\\end{cases}\\\\\\end{aligned}$ \n",
       "#### Parameters: \n",
       "\n",
       " $\\begin{aligned}&\\text{Name} &&= \\text{Neuro Identifier} \\\\ &\\text{Solver type} &&= \\text{euler} \\\\ &L &&= 5 \\\\ &\\bar w_m &&= 1000.0 \\\\ &\\epsilon &&= 0.2 \\\\ &k &&= 800 \\\\ &\\alpha &&= 300 \\\\ &\\gamma &&= 5 \\\\ &\\beta &&= 0.2 \\\\ &\\varPi_w &&= \\begin{bmatrix}0.1 & 0.0 & 0.0 & 0.0 & 0.0 & 0.0\\\\0.0 & 0.1 & 0.0 & 0.0 & 0.0 & 0.0\\\\0.0 & 0.0 & 0.1 & 0.0 & 0.0 & 0.0\\\\0.0 & 0.0 & 0.0 & 0.1 & 0.0 & 0.0\\\\0.0 & 0.0 & 0.0 & 0.0 & 0.1 & 0.0\\\\0.0 & 0.0 & 0.0 & 0.0 & 0.0 & 0.1\\\\\\end{bmatrix} \\\\ &\\varPi_v &&= \\begin{bmatrix}0.1 & 0.0\\\\0.0 & 0.1\\\\\\end{bmatrix} \\\\ &\\sigma(.) &&= \\text{sigmoid} \\\\ &dist_c &&= True\\end{aligned}$ \n",
       "#### Variables: \n",
       "\n",
       " $\\begin{aligned}&\\hat x(t) &&= \\begin{bmatrix}0.05627825408908667 & -0.0074170966113465235\\\\\\end{bmatrix}^T \\\\ &\\dot{\\hat x}(t) &&= \\begin{bmatrix}-0.06381315341205762 & 0.008682839220408911\\\\\\end{bmatrix}^T \\\\ &z(t) &&= \\begin{bmatrix}-1.4396068801243436 & -0.6235218015541846\\\\\\end{bmatrix}^T \\\\ &\\hat W &&= \\begin{bmatrix}-0.40418054077150656 & -0.5301791108666255\\\\0.9215030373053139 & 0.48365897107915024\\\\-1.5241585313214268 & 1.5592407789228067\\\\0.9342093363217205 & -0.06548983346733389\\\\0.38001521227430624 & -1.4243430766917289\\\\1.228348635295741 & 0.518043735010905\\\\\\end{bmatrix} \\\\ &\\hat V &&= \\begin{bmatrix}-0.7708793334037868 & 0.3029670421080845 & 0.8301456243079417 & 0.8069014358839334 & -0.2825162627936912\\\\0.43205328845954444 & 1.5876843255865298 & -1.011641292636675 & -0.16377875515063794 & 1.2897163803310263\\\\\\end{bmatrix} \\\\ \\end{aligned}$"
      ],
      "text/plain": [
       "<core.caller.dynamic_engine.NeuroIdentifier at 0x75915839fe50>"
      ]
     },
     "execution_count": 13,
     "metadata": {},
     "output_type": "execute_result"
    }
   ],
   "source": [
    "models.identifier"
   ]
  },
  {
   "attachments": {},
   "cell_type": "markdown",
   "metadata": {},
   "source": [
    "## Preservation\n",
    "Utilize the subsequent section to store data."
   ]
  },
  {
   "cell_type": "code",
   "execution_count": 14,
   "metadata": {},
   "outputs": [],
   "source": [
    "## Write your codes here ~~~>\n"
   ]
  }
 ],
 "metadata": {
  "kernelspec": {
   "display_name": "tf",
   "language": "python",
   "name": "python3"
  },
  "language_info": {
   "codemirror_mode": {
    "name": "ipython",
    "version": 3
   },
   "file_extension": ".py",
   "mimetype": "text/x-python",
   "name": "python",
   "nbconvert_exporter": "python",
   "pygments_lexer": "ipython3",
   "version": "3.8.8"
  },
  "orig_nbformat": 4
 },
 "nbformat": 4,
 "nbformat_minor": 2
}
